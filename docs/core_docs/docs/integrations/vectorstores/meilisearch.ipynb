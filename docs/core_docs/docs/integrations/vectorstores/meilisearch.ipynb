{
 "cells": [
  {
   "cell_type": "raw",
   "id": "1957f5cb",
   "metadata": {
    "vscode": {
     "languageId": "raw"
    }
   },
   "source": [
    "---\n",
    "sidebar_label: MeiliSearch\n",
    "sidebar_class_name: node-only\n",
    "---"
   ]
  },
  {
   "cell_type": "markdown",
   "id": "ef1f0986",
   "metadata": {},
   "source": [
    "# MeiliSearchVectorStore\n",
    "\n",
    "```{=mdx}\n",
    ":::tip Compatibility\n",
    "Only available on Node.js.\n",
    ":::\n",
    "```\n",
    "\n",
    "[MeiliSearch](https://www.meilisearch.com/) is a open-source flexible and powerful user-focused search engine that is lightning fast. It is designed for developers and provides an easy-to-use search engine. \n",
    "\n",
    "This is a quick start guide for using Meilisearch [vector stores](/docs/concepts/#vectorstores) with LangChain.js. For detailed documentation of all `MeiliSearchVectorStore` features and configurations head to the [API reference](https://api.js.langchain.com/classes/langchain_meilisearch.MeiliSearchVectorStore.html)."
   ]
  },
  {
   "cell_type": "markdown",
   "id": "c824838d",
   "metadata": {},
   "source": [
    "## Overview\n",
    "\n",
    "### Integration details\n",
    "\n",
    "| Class | Package | [PY support](https://python.langchain.com/docs/integrations/vectorstores/meilisearch/) |  Package latest |\n",
    "| :--- | :--- | :---: | :---: |\n",
    "| [`MeiliSearchVectorStore`](https://api.js.langchain.com/classes/langchain_community_vectorstores_meilisearch.MeiliSearchVectorStore.html) | [`@langchain/community`](https://npmjs.com/@langchain/community) | ✅ |  ![NPM - Version](https://img.shields.io/npm/v/@langchain/community?style=flat-square&label=%20&) |"
   ]
  },
  {
   "cell_type": "markdown",
   "id": "36fdc060",
   "metadata": {},
   "source": [
    "## Setup\n",
    "\n",
    "To use MeiliSearch vector store, you'll need to set up a Meilisearch instance and install the `@langchain/community` integration package.\n",
    "\n",
    "You can run a Meilisearch instance with Docker on your computer by following the [Meilisearch setup instructions](https://www.meilisearch.com/docs/guides/misc/docker). Note the URL your container runs on. Or you can run a Meilisearch instance directly on your computer downloading the [Meilisearch binary](https://github.com/meilisearch/meilisearch/releases). from Github.\n",
    "\n",
    "**Make a note of the URL your Meilisearch instance is running on and the Master key of your Meilisearch instance. You'll need these to connect to it from LangChain.js.**\n",
    "\n",
    "This guide will also use [OpenAI embeddings](/docs/integrations/text_embedding/openai), which require you to install the `@langchain/openai` integration package. You can also use [other supported embeddings models](/docs/integrations/text_embedding) if you wish.\n",
    "\n",
    "```{=mdx}\n",
    "import IntegrationInstallTooltip from \"@mdx_components/integration_install_tooltip.mdx\";\n",
    "import Npm2Yarn from \"@theme/Npm2Yarn\";\n",
    "\n",
    "<IntegrationInstallTooltip></IntegrationInstallTooltip>\n",
    "\n",
    "<Npm2Yarn>\n",
    "  @langchain/community @langchain/core @langchain/openai\n",
    "</Npm2Yarn>\n",
    "```\n",
    "\n",
    "### Credentials\n",
    "\n",
    "Once you've done the above setup, you can use the following code to create the Meilisearch instance:\n",
    "\n",
    "```typescript\n",
    "// default host: http://localhost:7700\n",
    "const meilisearch_client = new MeiliSearch({\n",
    "  host: 'MEILISEARCH_HOST',\n",
    "  apiKey: 'MEILISEARCH_MASTER_KEY',\n",
    "});\n",
    "```\n",
    "\n",
    "You will be passing this client to the `MeiliSearchVectorStore` constructor."
   ]
  },
  {
   "cell_type": "markdown",
   "id": "93df377e",
   "metadata": {},
   "source": [
    "## Instantiation\n",
    "\n",
    "This library provides 3 ways to instantiate a `MeiliSearchVectorStore`:\n",
    "\n",
    "1. From Texts\n",
    "2. From Documents\n",
    "3. From an Existing MeiliSearch Index"
   ]
  },
  {
   "cell_type": "markdown",
   "id": "5a0df027",
   "metadata": {},
   "source": [
    "## "
   ]
  },
  {
   "cell_type": "markdown",
   "id": "8bdd6141",
   "metadata": {},
   "source": [
    "### From Texts"
   ]
  },
  {
   "cell_type": "markdown",
   "id": "18c189a6",
   "metadata": {},
   "source": [
    "This is the simplest way to create a `MeiliSearchVectorStore`. You can pass an array of\n",
    "text strings to the constructor, and the store will create vectors for each text.\n",
    "Optionally, you can pass an array of Metadata objects to associate metadata with each text."
   ]
  },
  {
   "cell_type": "code",
   "execution_count": 1,
   "id": "dc37144c-208d-4ab3-9f3a-0407a69fe052",
   "metadata": {
    "tags": []
   },
   "outputs": [],
   "source": [
    "import { MeiliSearchVectorStore } from \"@langchain/meilisearch\";\n",
    "import { OpenAIEmbeddings } from \"@langchain/openai\";\n",
    "\n",
    "const embeddings = new OpenAIEmbeddings({\n",
    "  model: \"text-embedding-3-small\",\n",
    "});\n",
    "\n",
    "const meilisearch_client = new MeiliSearch({\n",
    "  host: 'MEILISEARCH_HOST',\n",
    "  apiKey: 'MEILISEARCH_MASTER_KEY',\n",
    "});\n",
    "\n",
    "const documentTexts = [\n",
    "  \"I feel great today!\",\n",
    "  \"I feel sad today.\",\n",
    "  \"I feel happy today.\",\n",
    "];\n",
    "\n",
    "const vectorStore = await MeiliSearchVectorStore.fromTexts(documentTexts,{}, embeddings, {\n",
    "  client: meilisearch_client,\n",
    "  index_name: \"langchainjs-meilisearch\",\n",
    "});"
   ]
  },
  {
   "cell_type": "markdown",
   "id": "4edf02c1",
   "metadata": {},
   "source": [
    "### From Documents\n",
    "\n",
    "You can also create a `MeiliSearchVectorStore` from an array of LangChain documents. Each document\n",
    "should be an object with a `pageContent` key containing the text to create a vector for. Optionally,\n",
    "you can pass the `metadata` key to associate metadata with each document."
   ]
  },
  {
   "cell_type": "code",
   "execution_count": null,
   "id": "ac1773c8",
   "metadata": {},
   "outputs": [],
   "source": [
    "import { MeiliSearchVectorStore } from \"@langchain/meilisearch\";\n",
    "import { OpenAIEmbeddings } from \"@langchain/openai\";\n",
    "\n",
    "const embeddings = new OpenAIEmbeddings({\n",
    "  model: \"text-embedding-3-small\",\n",
    "});\n",
    "\n",
    "const meilisearch_client = new MeiliSearch({\n",
    "  host: 'MEILISEARCH_HOST',\n",
    "  apiKey: 'MEILISEARCH_MASTER_KEY',\n",
    "});\n",
    "\n",
    "const documents = [\n",
    "    {\n",
    "        \"pageContent\": \"I feel great today!\",\n",
    "        \"metadata\": {}\n",
    "    },\n",
    "    {\n",
    "        \"pageContent\": \"I feel sad today.\",\n",
    "        \"metadata\": {}\n",
    "    },\n",
    "    {\n",
    "        \"pageContent\": \"I feel happy today.\",\n",
    "        \"metadata\": {}\n",
    "    }\n",
    "];\n",
    "\n",
    "const vectorStore = await MeiliSearchVectorStore.fromDocuments(documents,embeddings, {\n",
    "  client: meilisearch_client,\n",
    "  index_name: \"langchainjs-meilisearch\",\n",
    "});"
   ]
  },
  {
   "cell_type": "markdown",
   "id": "b69ec700",
   "metadata": {},
   "source": [
    "### From an Existing MeiliSearch Index\n",
    "\n",
    "You can also create a `MeiliSearchVectorStore` from an existing MeiliSearch index. This is useful\n",
    "if you want to reuse an existing index for vector storage. You can pass the index name to the constructor."
   ]
  },
  {
   "cell_type": "code",
   "execution_count": null,
   "id": "76b3cf11",
   "metadata": {},
   "outputs": [],
   "source": [
    "import { MeiliSearchVectorStore } from \"@langchain/meilisearch\";\n",
    "import { OpenAIEmbeddings } from \"@langchain/openai\";\n",
    "\n",
    "const embeddings = new OpenAIEmbeddings({\n",
    "  model: \"text-embedding-3-small\",\n",
    "});\n",
    "\n",
    "const meilisearch_client = new MeiliSearch({\n",
    "  host: 'MEILISEARCH_HOST',\n",
    "  apiKey: 'MEILISEARCH_MASTER_KEY',\n",
    "});\n",
    "\n",
    "const vectorStore = await MeiliSearchVectorStore.fromExistingIndex(embeddings, {\n",
    "  client: meilisearch_client,\n",
    "  index_name: \"langchainjs-meilisearch\",\n",
    "});"
   ]
  },
  {
   "cell_type": "markdown",
   "id": "ac6071d4",
   "metadata": {},
   "source": [
    "## Manage vector store\n",
    "\n",
    "### Add items to vector store"
   ]
  },
  {
   "cell_type": "code",
   "execution_count": 3,
   "id": "17f5efc0",
   "metadata": {},
   "outputs": [],
   "source": [
    "import type { Document } from \"@langchain/core/documents\";\n",
    "\n",
    "const document1: Document = {\n",
    "  pageContent: \"The powerhouse of the cell is the mitochondria\",\n",
    "  metadata: { source: \"https://example.com\" }\n",
    "};\n",
    "\n",
    "const document2: Document = {\n",
    "  pageContent: \"Buildings are made out of brick\",\n",
    "  metadata: { source: \"https://example.com\" }\n",
    "};\n",
    "\n",
    "const document3: Document = {\n",
    "  pageContent: \"Mitochondria are made out of lipids\",\n",
    "  metadata: { source: \"https://example.com\" }\n",
    "};\n",
    "\n",
    "const document4: Document = {\n",
    "  pageContent: \"The 2024 Olympics are in Paris\",\n",
    "  metadata: { source: \"https://example.com\" }\n",
    "}\n",
    "\n",
    "const documents = [document1, document2, document3, document4];\n",
    "\n",
    "await vectorStore.addDocuments(documents);"
   ]
  },
  {
   "cell_type": "markdown",
   "id": "c3620501",
   "metadata": {},
   "source": [
    "## Query vector store\n",
    "\n",
    "Once your vector store has been created and the relevant documents have been added you will most likely wish to query it during the running of your chain or agent. \n",
    "\n",
    "### Query directly\n",
    "\n",
    "Performing a simple similarity search can be done as follows:"
   ]
  },
  {
   "cell_type": "code",
   "execution_count": 7,
   "id": "aa0a16fa",
   "metadata": {},
   "outputs": [
    {
     "name": "stdout",
     "output_type": "stream",
     "text": [
      "* The powerhouse of the cell is the mitochondria [{\"source\":\"https://example.com\"}]\n",
      "* Mitochondria are made out of lipids [{\"source\":\"https://example.com\"}]\n"
     ]
    }
   ],
   "source": [
    "const filter = {\n",
    "  \"must\": [\n",
    "      { \"key\": \"metadata.source\", \"match\": { \"value\": \"https://example.com\" } },\n",
    "  ]\n",
    "};\n",
    "\n",
    "const similaritySearchResults = await vectorStore.similaritySearch(\"biology\", 2, filter);\n",
    "\n",
    "for (const doc of similaritySearchResults) {\n",
    "  console.log(`* ${doc.pageContent} [${JSON.stringify(doc.metadata, null)}]`);\n",
    "}"
   ]
  },
  {
   "cell_type": "markdown",
   "id": "3ed9d733",
   "metadata": {},
   "source": [
    "See [this page](https://www.meilisearch.com/docs/learn/filtering_and_sorting/filter_search_results) for more on Meilisearch filter syntax.\n",
    "\n",
    "If you want to execute a similarity search and receive the corresponding scores you can run:"
   ]
  },
  {
   "cell_type": "code",
   "execution_count": 8,
   "id": "5efd2eaa",
   "metadata": {},
   "outputs": [
    {
     "name": "stdout",
     "output_type": "stream",
     "text": [
      "* [SIM=0.165] The powerhouse of the cell is the mitochondria [{\"source\":\"https://example.com\"}]\n",
      "* [SIM=0.148] Mitochondria are made out of lipids [{\"source\":\"https://example.com\"}]\n"
     ]
    }
   ],
   "source": [
    "const similaritySearchWithScoreResults = await vectorStore.similaritySearchWithScore(\"biology\", 2, filter)\n",
    "\n",
    "for (const [doc, score] of similaritySearchWithScoreResults) {\n",
    "  console.log(`* [SIM=${score.toFixed(3)}] ${doc.pageContent} [${JSON.stringify(doc.metadata)}]`);\n",
    "}"
   ]
  },
  {
   "cell_type": "markdown",
   "id": "0c235cdc",
   "metadata": {},
   "source": [
    "### Query by turning into retriever\n",
    "\n",
    "You can also transform the vector store into a [retriever](/docs/concepts/#retrievers) for easier usage in your chains. "
   ]
  },
  {
   "cell_type": "code",
   "execution_count": 9,
   "id": "f3460093",
   "metadata": {},
   "outputs": [
    {
     "name": "stdout",
     "output_type": "stream",
     "text": [
      "[\n",
      "  Document {\n",
      "    pageContent: 'The powerhouse of the cell is the mitochondria',\n",
      "    metadata: { source: 'https://example.com' },\n",
      "    id: undefined\n",
      "  },\n",
      "  Document {\n",
      "    pageContent: 'Mitochondria are made out of lipids',\n",
      "    metadata: { source: 'https://example.com' },\n",
      "    id: undefined\n",
      "  }\n",
      "]\n"
     ]
    }
   ],
   "source": [
    "const retriever = vectorStore.asRetriever({\n",
    "  // Optional filter\n",
    "  filter: filter,\n",
    "  k: 2,\n",
    "});\n",
    "await retriever.invoke(\"biology\");"
   ]
  },
  {
   "cell_type": "markdown",
   "id": "5ad7448b",
   "metadata": {},
   "source": [
    "## Manage Indexes\n",
    "\n",
    "You can also manage the indexes in your MeiliSearch instance using the this library.\n",
    "\n",
    "```typescript\n",
    "\n",
    "// Delete the index.\n",
    "await vectorStore.deleteIndex();\n",
    "\n",
    "// Delete all Documents in the index.\n",
    "await vectorStore.deleteAllDocuments();\n",
    "\n",
    "// Enable Vector Store functionality on the Instance.\n",
    "await vectorStore.enableVectorStore();\n",
    "\n",
    "// Check if the Instance is Healthy.\n",
    "await vectorStore.isHealthy();\n",
    "\n",
    "```"
   ]
  },
  {
   "cell_type": "markdown",
   "id": "e2e0a211",
   "metadata": {},
   "source": [
    "### Usage for retrieval-augmented generation\n",
    "\n",
    "For guides on how to use this vector store for retrieval-augmented generation (RAG), see the following sections:\n",
    "\n",
    "- [Tutorials: working with external knowledge](/docs/tutorials/#working-with-external-knowledge).\n",
    "- [How-to: Question and answer with RAG](/docs/how_to/#qa-with-rag)\n",
    "- [Retrieval conceptual docs](/docs/concepts#retrieval)"
   ]
  },
  {
   "cell_type": "markdown",
   "id": "8a27244f",
   "metadata": {},
   "source": [
    "## API reference\n",
    "\n",
    "For detailed documentation of all `MeiliSearchVectorStore` features and configurations head to the [API reference](https://api.js.langchain.com/classes/langchain_community_vectorstores_meilisearch.MeiliSearchVectorStore.html)."
   ]
  }
 ],
 "metadata": {
  "kernelspec": {
   "display_name": "TypeScript",
   "language": "typescript",
   "name": "tslab"
  },
  "language_info": {
   "codemirror_mode": {
    "mode": "typescript",
    "name": "javascript",
    "typescript": true
   },
   "file_extension": ".ts",
   "mimetype": "text/typescript",
   "name": "typescript",
   "version": "3.7.2"
  }
 },
 "nbformat": 4,
 "nbformat_minor": 5
}
