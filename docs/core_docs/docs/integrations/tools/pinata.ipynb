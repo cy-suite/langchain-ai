{
  "cells": [
    {
      "cell_type": "raw",
      "id": "10238e62-3465-4973-9279-606cbb7ccf16",
      "metadata": {
        "id": "10238e62-3465-4973-9279-606cbb7ccf16",
        "vscode": {
          "languageId": "raw"
        }
      },
      "source": [
        "---\n",
        "sidebar_label: __sidebar_label__\n",
        "---"
      ]
    },
    {
      "cell_type": "markdown",
      "id": "a6f91f20",
      "metadata": {
        "id": "a6f91f20"
      },
      "source": [
        "# __Pinata Tool__\n",
        "\n",
        "This notebook provides a quick overview for getting started with [Pinata Tool](/docs/integrations/tools/). For detailed documentation of all Pinata Tool features and configurations head to the [API reference](__api_ref_module__).\n",
        "\n",
        "The Pinata Tool gives your agent the ability to manage files (upload, query and delete) on the IPFS Web3.0 Storage and manage groups (create, delete, get, list, update) for your files in your Pinata account.\n",
        "\n",
        "## Overview\n",
        "\n",
        "### Integration details\n",
        "\n",
        "| Tool Class | Package | Python Support | Latest Package |\n",
        "|:-----------|:--------|:---------------:|:---------------:|\n",
        "| [PinataUploadFileTool](__api_ref_module__) | [@langchain/community](__api_ref_package__) | ❌ | ![NPM - Version](https://img.shields.io/npm/v/@langchain/community?style=flat-square&label=%20&) |\n",
        "| [PinataQueryFileTool](__api_ref_module__) | [@langchain/community](__api_ref_package__) | ❌ | ![NPM - Version](https://img.shields.io/npm/v/@langchain/community?style=flat-square&label=%20&) |\n",
        "| [PinataDeleteFileTool](__api_ref_module__) | [@langchain/community](__api_ref_package__) | ❌ | ![NPM - Version](https://img.shields.io/npm/v/@langchain/community?style=flat-square&label=%20&) |\n",
        "| [PinataCreateGroupTool](__api_ref_module__) | [@langchain/community](__api_ref_package__) | ❌ | ![NPM - Version](https://img.shields.io/npm/v/@langchain/community?style=flat-square&label=%20&) |\n",
        "| [PinataDeleteGroupTool](__api_ref_module__) | [@langchain/community](__api_ref_package__) | ❌ | ![NPM - Version](https://img.shields.io/npm/v/@langchain/community?style=flat-square&label=%20&) |\n",
        "| [PinataGetGroupTool](__api_ref_module__) | [@langchain/community](__api_ref_package__) | ❌ | ![NPM - Version](https://img.shields.io/npm/v/@langchain/community?style=flat-square&label=%20&) |\n",
        "| [PinataListGroupTool](__api_ref_module__) | [@langchain/community](__api_ref_package__) | ❌ | ![NPM - Version](https://img.shields.io/npm/v/@langchain/community?style=flat-square&label=%20&) |\n",
        "| [PinataUpdateGroupTool](__api_ref_module__) | [@langchain/community](__api_ref_package__) | ❌ | ![NPM - Version](https://img.shields.io/npm/v/@langchain/community?style=flat-square&label=%20&) |\n",
        "\n",
        "### Tool features\n",
        "\n",
        "- **PinataUploadFileTool** – Uploads a file to Pinata and stores it on IPFS.\n",
        "- **PinataQueryFileTool** – Retrieves metadata or information about a specific uploaded file.\n",
        "- **PinataDeleteFileTool** – Deletes a previously uploaded file from Pinata.\n",
        "- **PinataCreateGroupTool** – Creates a new group (or collection) to organize files in Pinata.\n",
        "- **PinataDeleteGroupTool** – Deletes an existing group along with its associated metadata.\n",
        "- **PinataGetGroupTool** – Retrieves detailed information about a specific group.\n",
        "- **PinataListGroupTool** – Lists all existing groups under a Pinata account.\n",
        "- **PinataUpdateGroupTool** – Updates metadata or configuration for an existing group.\n",
        "\n",
        "\n",
        "## Setup\n",
        "\n",
        "The integration lives in the `@langchain/community` package, along with the `pinata` dependency.\n",
        "\n",
        "```{=mdx}\n",
        "import IntegrationInstallTooltip from \"@mdx_components/integration_install_tooltip.mdx\";\n",
        "import Npm2Yarn from \"@theme/Npm2Yarn\";\n",
        "\n",
        "<IntegrationInstallTooltip></IntegrationInstallTooltip>\n",
        "\n",
        "<Npm2Yarn>\n",
        "  @langchain/community @langchain/core pinata\n",
        "</Npm2Yarn>\n",
        "```\n",
        "\n",
        "### Credentials\n",
        "\n",
        "To use the tools, you will need to create an API key on [Pinata](https://pinata.cloud/) to obtain your JWT.\n",
        "\n",
        "```typescript\n",
        "process.env.PINATA_JWT=\"your-jwt-here\"\n",
        "```\n",
        "\n",
        "It's also helpful (but not needed) to set up [LangSmith](https://smith.langchain.com/) for best-in-class observability:\n",
        "\n",
        "```typescript\n",
        "process.env.LANGSMITH_TRACING=\"true\"\n",
        "process.env.LANGSMITH_API_KEY=\"your-api-key\"\n",
        "```"
      ]
    },
    {
      "cell_type": "markdown",
      "id": "1c97218f-f366-479d-8bf7-fe9f2f6df73f",
      "metadata": {
        "id": "1c97218f-f366-479d-8bf7-fe9f2f6df73f"
      },
      "source": [
        "## Instantiation\n",
        "\n",
        "You can import and instantiate an instance of the any Pinata tool like this:"
      ]
    },
    {
      "cell_type": "code",
      "execution_count": null,
      "id": "8b3ddfe9-ca79-494c-a7ab-1f56d9407a64",
      "metadata": {
        "id": "8b3ddfe9-ca79-494c-a7ab-1f56d9407a64",
        "vscode": {
          "languageId": "typescript"
        }
      },
      "outputs": [],
      "source": [
        "// An example of PinataUploadFileTool\n",
        "import { PinataUploadFileTool } from \"@langchain/community/tools/pinata\"\n",
        "\n",
        "\n",
        "const tool = new PinataUploadFileTool({\n",
        "  pinataJwt: process.env.PINATA_JWT,\n",
        "  pinataGateway: \"your-custom-gateway-here\",\n",
        "});"
      ]
    },
    {
      "cell_type": "markdown",
      "id": "74147a1a",
      "metadata": {
        "id": "74147a1a"
      },
      "source": [
        "## Invocation\n",
        "\n",
        "### [Invoke directly with args](/docs/concepts/#invoke-with-just-the-arguments)\n"
      ]
    },
    {
      "cell_type": "code",
      "execution_count": null,
      "id": "65310a8b-eb0c-4d9e-a618-4f4abe2414fc",
      "metadata": {
        "id": "65310a8b-eb0c-4d9e-a618-4f4abe2414fc",
        "vscode": {
          "languageId": "typescript"
        }
      },
      "outputs": [],
      "source": [
        "await tool.invoke({\n",
        "    url: \"https://em-content.zobj.net/source/apple/391/astronaut-light-skin-tone_1f9d1-1f3fb-200d-1f680.png\", //link to an astronaut emoji png\n",
        "    name: \"Astronaut Emoji\",\n",
        "    keyvalues: {\"tag\": \"emoji\"}\n",
        "});"
      ]
    },
    {
      "cell_type": "markdown",
      "id": "d6e73897",
      "metadata": {
        "id": "d6e73897"
      },
      "source": [
        "### [Invoke with ToolCall](/docs/concepts/#invoke-with-toolcall)\n",
        "\n",
        "We can also invoke the tool with a model-generated `ToolCall`, in which case a `ToolMessage` will be returned:"
      ]
    },
    {
      "cell_type": "code",
      "execution_count": null,
      "id": "f90e33a7",
      "metadata": {
        "id": "f90e33a7",
        "vscode": {
          "languageId": "typescript"
        }
      },
      "outputs": [],
      "source": [
        "// This is usually generated by a model, but we'll create a tool call directly for demo purposes.\n",
        "const modelGeneratedToolCall = {\n",
        "  args: {\n",
        "    url: \"https://em-content.zobj.net/source/apple/391/astronaut-light-skin-tone_1f9d1-1f3fb-200d-1f680.png\", //link to an astronaut emoji png\n",
        "    name: \"Astronaut Emoji\",\n",
        "    keyvalues: {\"tag\": \"emoji\"}\n",
        "  },\n",
        "  id: \"1\",\n",
        "  name: tool.name,\n",
        "  type: \"tool_call\",\n",
        "}\n",
        "await tool.invoke(modelGeneratedToolCall)"
      ]
    },
    {
      "cell_type": "markdown",
      "id": "659f9fbd-6fcf-445f-aa8c-72d8e60154bd",
      "metadata": {
        "id": "659f9fbd-6fcf-445f-aa8c-72d8e60154bd"
      },
      "source": [
        "## Chaining\n",
        "\n",
        "We can use our tool in a chain by first binding it to a [tool-calling model](/docs/how_to/tool_calling/) and then calling it:\n",
        "\n",
        "```{=mdx}\n",
        "import ChatModelTabs from \"@theme/ChatModelTabs\";\n",
        "\n",
        "<ChatModelTabs customVarName=\"llm\" />\n",
        "```\n"
      ]
    },
    {
      "cell_type": "code",
      "execution_count": null,
      "id": "af3123ad-7a02-40e5-b58e-7d56e23e5830",
      "metadata": {
        "id": "af3123ad-7a02-40e5-b58e-7d56e23e5830",
        "vscode": {
          "languageId": "typescript"
        }
      },
      "outputs": [],
      "source": [
        "// @lc-docs-hide-cell\n",
        "\n",
        "import { ChatOpenAI } from \"@langchain/openai\"\n",
        "\n",
        "const llm = new ChatOpenAI({\n",
        "  model: \"gpt-4o-mini\",\n",
        "})"
      ]
    },
    {
      "cell_type": "code",
      "execution_count": null,
      "id": "fdbf35b5-3aaf-4947-9ec6-48c21533fb95",
      "metadata": {
        "id": "fdbf35b5-3aaf-4947-9ec6-48c21533fb95",
        "vscode": {
          "languageId": "typescript"
        }
      },
      "outputs": [],
      "source": [
        "import { HumanMessage } from \"@langchain/core/messages\";\n",
        "import { ChatPromptTemplate } from \"@langchain/core/prompts\";\n",
        "import { RunnableLambda } from \"@langchain/core/runnables\";\n",
        "\n",
        "const prompt = ChatPromptTemplate.fromMessages(\n",
        "  [\n",
        "    [\"system\", \"You are a helpful assistant.\"],\n",
        "    [\"placeholder\", \"{messages}\"],\n",
        "  ]\n",
        ")\n",
        "\n",
        "const llmWithTools = llm.bindTools([tool]);\n",
        "\n",
        "const chain = prompt.pipe(llmWithTools);\n",
        "\n",
        "const toolChain = RunnableLambda.from(\n",
        "  async (userInput: string, config) => {\n",
        "    const humanMessage = new HumanMessage(userInput,);\n",
        "    const aiMsg = await chain.invoke({\n",
        "      messages: [new HumanMessage(userInput)],\n",
        "    }, config);\n",
        "    const toolMsgs = await tool.batch(aiMsg.tool_calls, config);\n",
        "    return chain.invoke({\n",
        "      messages: [humanMessage, aiMsg, ...toolMsgs],\n",
        "    }, config);\n",
        "  }\n",
        ");\n",
        "\n",
        "const toolChainResult = await toolChain.invoke(\"Can you help me to store a file as Astronaut Emoji on Pinata? Give it a tag as emoji. Here's the url: https://em-content.zobj.net/source/apple/391/astronaut-light-skin-tone_1f9d1-1f3fb-200d-1f680.png\");"
      ]
    },
    {
      "cell_type": "code",
      "execution_count": null,
      "id": "9ac188a2",
      "metadata": {
        "id": "9ac188a2",
        "vscode": {
          "languageId": "typescript"
        }
      },
      "outputs": [],
      "source": [
        "const { tool_calls, content } = toolChainResult;\n",
        "\n",
        "console.log(\"AIMessage\", JSON.stringify({\n",
        "  tool_calls,\n",
        "  content,\n",
        "}, null, 2));"
      ]
    },
    {
      "cell_type": "markdown",
      "id": "93848b02",
      "metadata": {
        "id": "93848b02"
      },
      "source": [
        "## Agents\n",
        "\n",
        "For guides on how to use LangChain tools in agents, see the [LangGraph.js](https://langchain-ai.github.io/langgraphjs/) docs."
      ]
    },
    {
      "cell_type": "markdown",
      "id": "4ac8146c",
      "metadata": {
        "id": "4ac8146c"
      },
      "source": [
        "## API reference\n",
        "\n",
        "For detailed documentation of all Pinata Tool features and configurations head to the [API reference](__api_ref_module__)"
      ]
    }
  ],
  "metadata": {
    "colab": {
      "provenance": []
    },
    "kernelspec": {
      "display_name": "poetry-venv-311",
      "language": "python",
      "name": "poetry-venv-311"
    },
    "language_info": {
      "codemirror_mode": {
        "name": "ipython",
        "version": 3
      },
      "file_extension": ".py",
      "mimetype": "text/x-python",
      "name": "python",
      "nbconvert_exporter": "python",
      "pygments_lexer": "ipython3",
      "version": "3.11.9"
    }
  },
  "nbformat": 4,
  "nbformat_minor": 5
}
