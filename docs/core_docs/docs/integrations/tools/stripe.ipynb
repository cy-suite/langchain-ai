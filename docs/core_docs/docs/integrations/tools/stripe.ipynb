{
  "cells": [
    {
      "cell_type": "raw",
      "id": "10238e62-3465-4973-9279-606cbb7ccf16",
      "metadata": {
        "vscode": {
          "languageId": "raw"
        }
      },
      "source": [
        "---\n",
        "sidebar_label: Stripe Agent Toolkit\n",
        "---"
      ]
    },
    {
      "cell_type": "markdown",
      "id": "a6f91f20",
      "metadata": {},
      "source": [
        "# Stripe Agent Toolkit\n",
        "\n",
        "The [Stripe Agent Toolkit](https://github.com/stripe/agent-toolkit?tab=readme-ov-file#typescript) enables integrating LangChain with Stripe APIs through function calling.\n",
        "\n",
        "## Overview\n",
        "\n",
        "## Setup\n",
        "\n",
        "The integration requires installing `@stripe/agent-toolkit` (exposes the Stripe API tools) and `@langchain/core` (for packaging as a LangChain tool). We'll be using LangGraph's `createReactAgent` prebuilt ReAct agent function in this example, so you'll need to install `@langchain/langgraph` as well.\n",
        "\n",
        "```{=mdx}\n",
        "import IntegrationInstallTooltip from \"@mdx_components/integration_install_tooltip.mdx\";\n",
        "import Npm2Yarn from \"@theme/Npm2Yarn\";\n",
        "\n",
        "<IntegrationInstallTooltip></IntegrationInstallTooltip>\n",
        "\n",
        "<Npm2Yarn>\n",
        "  @stripe/agent-toolkit @langchain/core @langchain/langgraph\n",
        "</Npm2Yarn>\n",
        "```\n",
        "\n",
        "### Credentials\n",
        "\n",
        "Create a Stripe secret key on your [Stripe Dashboard](https://dashboard.stripe.com/account/apikeys) and set it as an environment variable:\n",
        "\n",
        "```typescript\n",
        "process.env.STRIPE_SECRET_KEY = \"YOUR_SECRET_KEY\"\n",
        "```\n",
        "\n",
        "It's also helpful (but not needed) to set up [LangSmith](https://smith.langchain.com/) for best-in-class observability:\n",
        "\n",
        "```typescript\n",
        "process.env.LANGCHAIN_TRACING_V2=\"true\"\n",
        "process.env.LANGCHAIN_API_KEY=\"your-api-key\"\n",
        "```"
      ]
    },
    {
      "cell_type": "markdown",
      "id": "1c97218f-f366-479d-8bf7-fe9f2f6df73f",
      "metadata": {},
      "source": [
        "## Instantiation\n",
        "\n",
        "You can import and instantiate an instance of the Stripe Agent Toolkit as follows:\n",
        "\n",
        "First, select an LLM to use in the agent:\n",
        "\n",
        "```{=mdx}\n",
        "import ChatModelTabs from \"@theme/ChatModelTabs\";\n",
        "\n",
        "<ChatModelTabs openaiParams={`{ model: \"gpt-4o\" }`} />\n",
        "```"
      ]
    },
    {
      "cell_type": "code",
      "execution_count": 1,
      "id": "14189d34",
      "metadata": {},
      "outputs": [],
      "source": [
        "// @lc-docs-hide-cell\n",
        "\n",
        "import { ChatOpenAI } from \"@langchain/openai\";\n",
        "\n",
        "const model = new ChatOpenAI({ model: \"gpt-4o\", temperature: 0 })"
      ]
    },
    {
      "cell_type": "code",
      "execution_count": 2,
      "id": "8b3ddfe9-ca79-494c-a7ab-1f56d9407a64",
      "metadata": {},
      "outputs": [
        {
          "name": "stderr",
          "output_type": "stream",
          "text": [
            "16:7 - Property '_callWithConfig' of exported class expression may not be private or protected.\n",
            "16:7 - Property '_getOptionsList' of exported class expression may not be private or protected.\n",
            "16:7 - Property '_separateRunnableConfigFromCallOptions' of exported class expression may not be private or protected.\n",
            "16:7 - Property '_streamEventsV1' of exported class expression may not be private or protected.\n",
            "16:7 - Property '_streamEventsV2' of exported class expression may not be private or protected.\n",
            "16:7 - Property '_streamLog' of exported class expression may not be private or protected.\n",
            "16:7 - Property '_transformStreamWithConfig' of exported class expression may not be private or protected.\n",
            "16:7 - Property 'lc_runnable' of exported class expression may not be private or protected.\n"
          ]
        }
      ],
      "source": [
        "import { createReactAgent } from \"@langchain/langgraph/prebuilt\";\n",
        "import { StripeAgentToolkit } from \"@stripe/agent-toolkit/langchain\";\n",
        "\n",
        "console.log(\"Before toolkit\")\n",
        "const stripeAgentToolkit = new StripeAgentToolkit({\n",
        "  secretKey: process.env.STRIPE_SECRET_KEY!,\n",
        "  configuration: {\n",
        "    actions: {\n",
        "      paymentLinks: {\n",
        "        create: true,\n",
        "      },\n",
        "    },\n",
        "  },\n",
        "});\n",
        "console.log(\"Before tools\")\n",
        "const tools = stripeAgentToolkit.tools;\n",
        "// console.log(tools)\n",
        "// const agent = createReactAgent({\n",
        "//   llm: model,\n",
        "//   tools,\n",
        "// });"
      ]
    },
    {
      "cell_type": "markdown",
      "id": "74147a1a",
      "metadata": {},
      "source": [
        "## Invocation\n",
        "\n",
        "### [Invoke directly with args](/docs/concepts/tools)\n",
        "\n",
        "You can invoke the agent with tools directly like this:"
      ]
    },
    {
      "cell_type": "code",
      "execution_count": 2,
      "id": "65310a8b-eb0c-4d9e-a618-4f4abe2414fc",
      "metadata": {},
      "outputs": [
        {
          "name": "stdout",
          "output_type": "stream",
          "text": [
            "[{\"title\":\"San Francisco, CA Current Weather | AccuWeather\",\"url\":\"https://www.accuweather.com/en/us/san-francisco/94103/current-weather/347629\",\"content\":\"Current weather in San Francisco, CA. Check current conditions in San Francisco, CA with radar, hourly, and more.\",\"score\":0.9428234,\"raw_content\":null},{\"title\":\"National Weather Service\",\"url\":\"https://forecast.weather.gov/zipcity.php?inputstring=San+Francisco,CA\",\"content\":\"NOAA National Weather Service. Current conditions at SAN FRANCISCO DOWNTOWN (SFOC1) Lat: 37.77056°NLon: 122.42694°WElev: 150.0ft.\",\"score\":0.94261247,\"raw_content\":null}]\n"
          ]
        }
      ],
      "source": [
        "await agent.invoke({\n",
        "  messages: [{\n",
        "    role: \"user\",\n",
        "    content: \"Can you create a payment link for my 'test' product?\"\n",
        "  }]\n",
        "})"
      ]
    },
    {
      "cell_type": "markdown",
      "id": "573fb391",
      "metadata": {},
      "source": [
        "## Agents\n",
        "\n",
        "For guides on how to use LangChain tools in agents, see the [LangGraph.js](https://langchain-ai.github.io/langgraphjs/) docs."
      ]
    }
  ],
  "metadata": {
    "kernelspec": {
      "display_name": "TypeScript",
      "language": "typescript",
      "name": "tslab"
    },
    "language_info": {
      "codemirror_mode": {
        "mode": "typescript",
        "name": "javascript",
        "typescript": true
      },
      "file_extension": ".ts",
      "mimetype": "text/typescript",
      "name": "typescript",
      "version": "3.7.2"
    }
  },
  "nbformat": 4,
  "nbformat_minor": 5
}
